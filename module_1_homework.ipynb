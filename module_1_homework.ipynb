{
 "cells": [
  {
   "cell_type": "markdown",
   "metadata": {
    "pycharm": {
     "name": "#%% md\n"
    }
   },
   "source": [
    "# Домашнее задание на проверку знаний библиотеки для анализа данных Pandas.\n",
    "\n",
    "Вам представлен датасет, который содержит информацию по результатам сезона 2016 года игры в бейсбол.\n",
    "\n",
    "Вам необходимо загрузить датасет (он находится в архиве с текущим домашним заданием). Провести его очистку, если это необходимо и ответить на поставленные аналитические\n",
    "вопросы.\n",
    "\n",
    "Список колонок, представленных в датасете:\n",
    "\n",
    "---\n",
    "* attendance        - количество зрителей матча\n",
    "* away_team         - название гостевой команды\n",
    "* away_team_errors  - количество ошибок гостевой команды\n",
    "* away_team_hits    - количество хитов гостевой команды (хит в бейсболе - удар при котором отбивающий достиг первой базы)\n",
    "* away_team_runs    - количество ранов гостевой команды (ран в бейсболе - очко заработанное игроком нападения)\n",
    "* date              - дата проведения матча\n",
    "* field_type        - тип игрового поля\n",
    "* game_type         - тип игры\n",
    "* home_team         - название домашней команды\n",
    "* home_team_errors  - количество ошибок домашней команды\n",
    "* home_team_hits    - количество хитов домашней команды (хит в бейсболе - удар при котором отбивающий достиг первой базы)\n",
    "* home_team_runs    - количество ранов домашней команды (ран в бейсболе - очко заработанное игроком нападения)\n",
    "* start_time        - время начала игрового матча\n",
    "* venue             - название места проведения матча (стадион, поле, арена)\n",
    "* day_of_week       - день недели проведения матча\n",
    "* temperature       - температура воздуха в день проведения матча в фаренгейтах\n",
    "* wind_speed        - скорость ветра в день проведения матча\n",
    "* wind_direction    - направление скорости ветра\n",
    "* sky               - облачность\n",
    "* total_runs        - общее количество ранов для двух команд\n",
    "* game_hours_dec    - длительность матча указаная в часах\n",
    "* season            - тип игрового сезона\n",
    "* home_team_win     - результат домашней команды (1 - выигрыш)\n",
    "* home_team_loss    - результат домашней команды (0 - проигрыш)\n",
    "* home_team_outcome - исход матча\n",
    "---\n",
    "\n",
    "Всего в задании 20 вопросов. За каждый правильный вопрос начисляется 5 баллов. Таким образом за все правильные ответы вы получите - 100 баллов. Оценка затем будет приведена к 10-ти бальной шкале.\n",
    "\n",
    "---\n",
    "\n",
    "**Кроме того, баллы могут быть снижены за**:\n",
    "\n",
    "- 1 балл снижается за качество кода - старайтесь чтобы код был максимально лаконичным. Названия переменных (если они используются) должны отражать максимальную ее сущность. Вывод старайтесь делать минимальным, так как первичная цель - сделать качественный анализ, чтобы быстро ответить на поставленный вопрос (никаких таблиц на 100 строк)."
   ]
  },
  {
   "cell_type": "code",
   "execution_count": 4,
   "metadata": {
    "pycharm": {
     "name": "#%%\n"
    }
   },
   "outputs": [],
   "source": [
    "# Импортируйте все необходимые библиотеки и модули которые вам необходимы\n",
    "import numpy as np\n",
    "import pandas as pd"
   ]
  },
  {
   "cell_type": "code",
   "execution_count": 6,
   "metadata": {
    "pycharm": {
     "name": "#%%\n"
    }
   },
   "outputs": [
    {
     "data": {
      "text/html": [
       "<div>\n",
       "<style scoped>\n",
       "    .dataframe tbody tr th:only-of-type {\n",
       "        vertical-align: middle;\n",
       "    }\n",
       "\n",
       "    .dataframe tbody tr th {\n",
       "        vertical-align: top;\n",
       "    }\n",
       "\n",
       "    .dataframe thead th {\n",
       "        text-align: right;\n",
       "    }\n",
       "</style>\n",
       "<table border=\"1\" class=\"dataframe\">\n",
       "  <thead>\n",
       "    <tr style=\"text-align: right;\">\n",
       "      <th></th>\n",
       "      <th>Unnamed: 0</th>\n",
       "      <th>attendance</th>\n",
       "      <th>away_team</th>\n",
       "      <th>away_team_errors</th>\n",
       "      <th>away_team_hits</th>\n",
       "      <th>away_team_runs</th>\n",
       "      <th>date</th>\n",
       "      <th>field_type</th>\n",
       "      <th>game_type</th>\n",
       "      <th>home_team</th>\n",
       "      <th>...</th>\n",
       "      <th>temperature</th>\n",
       "      <th>wind_speed</th>\n",
       "      <th>wind_direction</th>\n",
       "      <th>sky</th>\n",
       "      <th>total_runs</th>\n",
       "      <th>game_hours_dec</th>\n",
       "      <th>season</th>\n",
       "      <th>home_team_win</th>\n",
       "      <th>home_team_loss</th>\n",
       "      <th>home_team_outcome</th>\n",
       "    </tr>\n",
       "  </thead>\n",
       "  <tbody>\n",
       "    <tr>\n",
       "      <th>0</th>\n",
       "      <td>0</td>\n",
       "      <td>40030.0</td>\n",
       "      <td>New York Mets</td>\n",
       "      <td>1</td>\n",
       "      <td>7</td>\n",
       "      <td>3</td>\n",
       "      <td>2016-04-03</td>\n",
       "      <td>on grass</td>\n",
       "      <td>Night Game</td>\n",
       "      <td>Kansas City Royals</td>\n",
       "      <td>...</td>\n",
       "      <td>74.0</td>\n",
       "      <td>14.0</td>\n",
       "      <td>from Right to Left</td>\n",
       "      <td>Sunny</td>\n",
       "      <td>7</td>\n",
       "      <td>3.216667</td>\n",
       "      <td>regular season</td>\n",
       "      <td>1</td>\n",
       "      <td>0</td>\n",
       "      <td>Win</td>\n",
       "    </tr>\n",
       "    <tr>\n",
       "      <th>1</th>\n",
       "      <td>1</td>\n",
       "      <td>21621.0</td>\n",
       "      <td>Philadelphia Phillies</td>\n",
       "      <td>0</td>\n",
       "      <td>5</td>\n",
       "      <td>2</td>\n",
       "      <td>2016-04-06</td>\n",
       "      <td>on grass</td>\n",
       "      <td>Night Game</td>\n",
       "      <td>Cincinnati Reds</td>\n",
       "      <td>...</td>\n",
       "      <td>55.0</td>\n",
       "      <td>24.0</td>\n",
       "      <td>from Right to Left</td>\n",
       "      <td>Overcast</td>\n",
       "      <td>5</td>\n",
       "      <td>2.383333</td>\n",
       "      <td>regular season</td>\n",
       "      <td>1</td>\n",
       "      <td>0</td>\n",
       "      <td>Win</td>\n",
       "    </tr>\n",
       "    <tr>\n",
       "      <th>2</th>\n",
       "      <td>2</td>\n",
       "      <td>12622.0</td>\n",
       "      <td>Minnesota Twins</td>\n",
       "      <td>0</td>\n",
       "      <td>5</td>\n",
       "      <td>2</td>\n",
       "      <td>2016-04-06</td>\n",
       "      <td>on grass</td>\n",
       "      <td>Night Game</td>\n",
       "      <td>Baltimore Orioles</td>\n",
       "      <td>...</td>\n",
       "      <td>48.0</td>\n",
       "      <td>7.0</td>\n",
       "      <td>out to Leftfield</td>\n",
       "      <td>Unknown</td>\n",
       "      <td>6</td>\n",
       "      <td>3.183333</td>\n",
       "      <td>regular season</td>\n",
       "      <td>1</td>\n",
       "      <td>0</td>\n",
       "      <td>Win</td>\n",
       "    </tr>\n",
       "    <tr>\n",
       "      <th>3</th>\n",
       "      <td>3</td>\n",
       "      <td>18531.0</td>\n",
       "      <td>Washington Nationals</td>\n",
       "      <td>0</td>\n",
       "      <td>8</td>\n",
       "      <td>3</td>\n",
       "      <td>2016-04-06</td>\n",
       "      <td>on grass</td>\n",
       "      <td>Night Game</td>\n",
       "      <td>Atlanta Braves</td>\n",
       "      <td>...</td>\n",
       "      <td>65.0</td>\n",
       "      <td>10.0</td>\n",
       "      <td>from Right to Left</td>\n",
       "      <td>Cloudy</td>\n",
       "      <td>4</td>\n",
       "      <td>2.883333</td>\n",
       "      <td>regular season</td>\n",
       "      <td>0</td>\n",
       "      <td>1</td>\n",
       "      <td>Loss</td>\n",
       "    </tr>\n",
       "    <tr>\n",
       "      <th>4</th>\n",
       "      <td>4</td>\n",
       "      <td>18572.0</td>\n",
       "      <td>Colorado Rockies</td>\n",
       "      <td>1</td>\n",
       "      <td>8</td>\n",
       "      <td>4</td>\n",
       "      <td>2016-04-06</td>\n",
       "      <td>on grass</td>\n",
       "      <td>Day Game</td>\n",
       "      <td>Arizona Diamondbacks</td>\n",
       "      <td>...</td>\n",
       "      <td>77.0</td>\n",
       "      <td>0.0</td>\n",
       "      <td>in unknown direction</td>\n",
       "      <td>In Dome</td>\n",
       "      <td>7</td>\n",
       "      <td>2.650000</td>\n",
       "      <td>regular season</td>\n",
       "      <td>0</td>\n",
       "      <td>1</td>\n",
       "      <td>Loss</td>\n",
       "    </tr>\n",
       "  </tbody>\n",
       "</table>\n",
       "<p>5 rows × 26 columns</p>\n",
       "</div>"
      ],
      "text/plain": [
       "   Unnamed: 0  attendance              away_team  away_team_errors  \\\n",
       "0           0     40030.0          New York Mets                 1   \n",
       "1           1     21621.0  Philadelphia Phillies                 0   \n",
       "2           2     12622.0        Minnesota Twins                 0   \n",
       "3           3     18531.0   Washington Nationals                 0   \n",
       "4           4     18572.0       Colorado Rockies                 1   \n",
       "\n",
       "   away_team_hits  away_team_runs        date field_type   game_type  \\\n",
       "0               7               3  2016-04-03   on grass  Night Game   \n",
       "1               5               2  2016-04-06   on grass  Night Game   \n",
       "2               5               2  2016-04-06   on grass  Night Game   \n",
       "3               8               3  2016-04-06   on grass  Night Game   \n",
       "4               8               4  2016-04-06   on grass    Day Game   \n",
       "\n",
       "              home_team  ...  temperature  wind_speed         wind_direction  \\\n",
       "0    Kansas City Royals  ...         74.0        14.0     from Right to Left   \n",
       "1       Cincinnati Reds  ...         55.0        24.0     from Right to Left   \n",
       "2     Baltimore Orioles  ...         48.0         7.0       out to Leftfield   \n",
       "3        Atlanta Braves  ...         65.0        10.0     from Right to Left   \n",
       "4  Arizona Diamondbacks  ...         77.0         0.0   in unknown direction   \n",
       "\n",
       "        sky total_runs game_hours_dec          season  home_team_win  \\\n",
       "0     Sunny          7       3.216667  regular season              1   \n",
       "1  Overcast          5       2.383333  regular season              1   \n",
       "2   Unknown          6       3.183333  regular season              1   \n",
       "3    Cloudy          4       2.883333  regular season              0   \n",
       "4   In Dome          7       2.650000  regular season              0   \n",
       "\n",
       "  home_team_loss home_team_outcome  \n",
       "0              0               Win  \n",
       "1              0               Win  \n",
       "2              0               Win  \n",
       "3              1              Loss  \n",
       "4              1              Loss  \n",
       "\n",
       "[5 rows x 26 columns]"
      ]
     },
     "execution_count": 6,
     "metadata": {},
     "output_type": "execute_result"
    }
   ],
   "source": [
    "# Загрузите датасет и проведите его очистку и форматирование если это необходимо\n",
    "data = pd.read_csv('C:/Users/epg_F/Homework_1/baseball_games.csv', delimiter = ',')\n",
    "data.head()"
   ]
  },
  {
   "cell_type": "markdown",
   "metadata": {
    "jp-MarkdownHeadingCollapsed": true,
    "pycharm": {
     "name": "#%% md\n"
    }
   },
   "source": [
    "# 1. На какую игру пришло максимальное количество зрителей за весь сезон игр?"
   ]
  },
  {
   "cell_type": "code",
   "execution_count": 9,
   "metadata": {
    "pycharm": {
     "name": "#%%\n"
    }
   },
   "outputs": [
    {
     "data": {
      "text/html": [
       "<div>\n",
       "<style scoped>\n",
       "    .dataframe tbody tr th:only-of-type {\n",
       "        vertical-align: middle;\n",
       "    }\n",
       "\n",
       "    .dataframe tbody tr th {\n",
       "        vertical-align: top;\n",
       "    }\n",
       "\n",
       "    .dataframe thead th {\n",
       "        text-align: right;\n",
       "    }\n",
       "</style>\n",
       "<table border=\"1\" class=\"dataframe\">\n",
       "  <thead>\n",
       "    <tr style=\"text-align: right;\">\n",
       "      <th></th>\n",
       "      <th>Unnamed: 0</th>\n",
       "      <th>attendance</th>\n",
       "      <th>away_team</th>\n",
       "      <th>away_team_errors</th>\n",
       "      <th>away_team_hits</th>\n",
       "      <th>away_team_runs</th>\n",
       "      <th>date</th>\n",
       "      <th>field_type</th>\n",
       "      <th>game_type</th>\n",
       "      <th>home_team</th>\n",
       "      <th>...</th>\n",
       "      <th>temperature</th>\n",
       "      <th>wind_speed</th>\n",
       "      <th>wind_direction</th>\n",
       "      <th>sky</th>\n",
       "      <th>total_runs</th>\n",
       "      <th>game_hours_dec</th>\n",
       "      <th>season</th>\n",
       "      <th>home_team_win</th>\n",
       "      <th>home_team_loss</th>\n",
       "      <th>home_team_outcome</th>\n",
       "    </tr>\n",
       "  </thead>\n",
       "  <tbody>\n",
       "    <tr>\n",
       "      <th>358</th>\n",
       "      <td>358</td>\n",
       "      <td>54449.0</td>\n",
       "      <td>Chicago Cubs</td>\n",
       "      <td>0</td>\n",
       "      <td>13</td>\n",
       "      <td>8</td>\n",
       "      <td>2016-10-20</td>\n",
       "      <td>on grass</td>\n",
       "      <td>Night Game</td>\n",
       "      <td>Los Angeles Dodgers</td>\n",
       "      <td>...</td>\n",
       "      <td>89.0</td>\n",
       "      <td>7.0</td>\n",
       "      <td>out to Centerfield</td>\n",
       "      <td>Night</td>\n",
       "      <td>12</td>\n",
       "      <td>4.266667</td>\n",
       "      <td>post season</td>\n",
       "      <td>0</td>\n",
       "      <td>1</td>\n",
       "      <td>Loss</td>\n",
       "    </tr>\n",
       "    <tr>\n",
       "      <th>360</th>\n",
       "      <td>360</td>\n",
       "      <td>54449.0</td>\n",
       "      <td>Chicago Cubs</td>\n",
       "      <td>2</td>\n",
       "      <td>13</td>\n",
       "      <td>10</td>\n",
       "      <td>2016-10-19</td>\n",
       "      <td>on grass</td>\n",
       "      <td>Night Game</td>\n",
       "      <td>Los Angeles Dodgers</td>\n",
       "      <td>...</td>\n",
       "      <td>89.0</td>\n",
       "      <td>4.0</td>\n",
       "      <td>out to Rightfield</td>\n",
       "      <td>Night</td>\n",
       "      <td>12</td>\n",
       "      <td>3.966667</td>\n",
       "      <td>post season</td>\n",
       "      <td>0</td>\n",
       "      <td>1</td>\n",
       "      <td>Loss</td>\n",
       "    </tr>\n",
       "  </tbody>\n",
       "</table>\n",
       "<p>2 rows × 26 columns</p>\n",
       "</div>"
      ],
      "text/plain": [
       "     Unnamed: 0  attendance     away_team  away_team_errors  away_team_hits  \\\n",
       "358         358     54449.0  Chicago Cubs                 0              13   \n",
       "360         360     54449.0  Chicago Cubs                 2              13   \n",
       "\n",
       "     away_team_runs        date field_type   game_type            home_team  \\\n",
       "358               8  2016-10-20   on grass  Night Game  Los Angeles Dodgers   \n",
       "360              10  2016-10-19   on grass  Night Game  Los Angeles Dodgers   \n",
       "\n",
       "     ...  temperature  wind_speed       wind_direction    sky total_runs  \\\n",
       "358  ...         89.0         7.0   out to Centerfield  Night         12   \n",
       "360  ...         89.0         4.0    out to Rightfield  Night         12   \n",
       "\n",
       "    game_hours_dec       season  home_team_win home_team_loss  \\\n",
       "358       4.266667  post season              0              1   \n",
       "360       3.966667  post season              0              1   \n",
       "\n",
       "    home_team_outcome  \n",
       "358              Loss  \n",
       "360              Loss  \n",
       "\n",
       "[2 rows x 26 columns]"
      ]
     },
     "execution_count": 9,
     "metadata": {},
     "output_type": "execute_result"
    }
   ],
   "source": [
    "#data.loc[data['attendance'].idxmax()]  \n",
    "\n",
    "# Сначала я использовал .loc, но мне не нравился формат вывода. \n",
    "#Гугл подсказал, что есть метод .nlargest. В итоге оказалось, что в сезоне было 2 игры с равным количеством зрителей\n",
    "# цифра в скобках показывает сколько хотим вывести строк \n",
    "# в дальнейшем использовал этот метод\n",
    "\n",
    "data.nlargest(2,'attendance')"
   ]
  },
  {
   "cell_type": "markdown",
   "metadata": {
    "jp-MarkdownHeadingCollapsed": true,
    "pycharm": {
     "name": "#%% md\n"
    }
   },
   "source": [
    "# 2. Какая игра была самая холодная (temperature) за весь сезон?"
   ]
  },
  {
   "cell_type": "code",
   "execution_count": 11,
   "metadata": {
    "pycharm": {
     "name": "#%%\n"
    }
   },
   "outputs": [
    {
     "data": {
      "text/html": [
       "<div>\n",
       "<style scoped>\n",
       "    .dataframe tbody tr th:only-of-type {\n",
       "        vertical-align: middle;\n",
       "    }\n",
       "\n",
       "    .dataframe tbody tr th {\n",
       "        vertical-align: top;\n",
       "    }\n",
       "\n",
       "    .dataframe thead th {\n",
       "        text-align: right;\n",
       "    }\n",
       "</style>\n",
       "<table border=\"1\" class=\"dataframe\">\n",
       "  <thead>\n",
       "    <tr style=\"text-align: right;\">\n",
       "      <th></th>\n",
       "      <th>Unnamed: 0</th>\n",
       "      <th>attendance</th>\n",
       "      <th>away_team</th>\n",
       "      <th>away_team_errors</th>\n",
       "      <th>away_team_hits</th>\n",
       "      <th>away_team_runs</th>\n",
       "      <th>date</th>\n",
       "      <th>field_type</th>\n",
       "      <th>game_type</th>\n",
       "      <th>home_team</th>\n",
       "      <th>...</th>\n",
       "      <th>temperature</th>\n",
       "      <th>wind_speed</th>\n",
       "      <th>wind_direction</th>\n",
       "      <th>sky</th>\n",
       "      <th>total_runs</th>\n",
       "      <th>game_hours_dec</th>\n",
       "      <th>season</th>\n",
       "      <th>home_team_win</th>\n",
       "      <th>home_team_loss</th>\n",
       "      <th>home_team_outcome</th>\n",
       "    </tr>\n",
       "  </thead>\n",
       "  <tbody>\n",
       "    <tr>\n",
       "      <th>2409</th>\n",
       "      <td>2409</td>\n",
       "      <td>32419.0</td>\n",
       "      <td>New York Yankees</td>\n",
       "      <td>1</td>\n",
       "      <td>13</td>\n",
       "      <td>8</td>\n",
       "      <td>2016-04-09</td>\n",
       "      <td>on grass</td>\n",
       "      <td>Day Game</td>\n",
       "      <td>Detroit Tigers</td>\n",
       "      <td>...</td>\n",
       "      <td>31.0</td>\n",
       "      <td>18.0</td>\n",
       "      <td>from Left to Right</td>\n",
       "      <td>Cloudy</td>\n",
       "      <td>12</td>\n",
       "      <td>3.333333</td>\n",
       "      <td>regular season</td>\n",
       "      <td>0</td>\n",
       "      <td>1</td>\n",
       "      <td>Loss</td>\n",
       "    </tr>\n",
       "  </tbody>\n",
       "</table>\n",
       "<p>1 rows × 26 columns</p>\n",
       "</div>"
      ],
      "text/plain": [
       "      Unnamed: 0  attendance         away_team  away_team_errors  \\\n",
       "2409        2409     32419.0  New York Yankees                 1   \n",
       "\n",
       "      away_team_hits  away_team_runs        date field_type game_type  \\\n",
       "2409              13               8  2016-04-09   on grass  Day Game   \n",
       "\n",
       "           home_team  ...  temperature  wind_speed       wind_direction  \\\n",
       "2409  Detroit Tigers  ...         31.0        18.0   from Left to Right   \n",
       "\n",
       "         sky total_runs game_hours_dec          season  home_team_win  \\\n",
       "2409  Cloudy         12       3.333333  regular season              0   \n",
       "\n",
       "     home_team_loss home_team_outcome  \n",
       "2409              1              Loss  \n",
       "\n",
       "[1 rows x 26 columns]"
      ]
     },
     "execution_count": 11,
     "metadata": {},
     "output_type": "execute_result"
    }
   ],
   "source": [
    "data.nsmallest(1,'temperature')"
   ]
  },
  {
   "cell_type": "markdown",
   "metadata": {
    "jp-MarkdownHeadingCollapsed": true,
    "pycharm": {
     "name": "#%% md\n"
    }
   },
   "source": [
    "# 3. Какая игра была самая теплая за весь сезон?"
   ]
  },
  {
   "cell_type": "code",
   "execution_count": 96,
   "metadata": {
    "pycharm": {
     "name": "#%%\n"
    }
   },
   "outputs": [
    {
     "data": {
      "text/html": [
       "<div>\n",
       "<style scoped>\n",
       "    .dataframe tbody tr th:only-of-type {\n",
       "        vertical-align: middle;\n",
       "    }\n",
       "\n",
       "    .dataframe tbody tr th {\n",
       "        vertical-align: top;\n",
       "    }\n",
       "\n",
       "    .dataframe thead th {\n",
       "        text-align: right;\n",
       "    }\n",
       "</style>\n",
       "<table border=\"1\" class=\"dataframe\">\n",
       "  <thead>\n",
       "    <tr style=\"text-align: right;\">\n",
       "      <th></th>\n",
       "      <th>Unnamed: 0</th>\n",
       "      <th>attendance</th>\n",
       "      <th>away_team</th>\n",
       "      <th>away_team_errors</th>\n",
       "      <th>away_team_hits</th>\n",
       "      <th>away_team_runs</th>\n",
       "      <th>date</th>\n",
       "      <th>field_type</th>\n",
       "      <th>game_type</th>\n",
       "      <th>home_team</th>\n",
       "      <th>...</th>\n",
       "      <th>temperature</th>\n",
       "      <th>wind_speed</th>\n",
       "      <th>wind_direction</th>\n",
       "      <th>sky</th>\n",
       "      <th>total_runs</th>\n",
       "      <th>game_hours_dec</th>\n",
       "      <th>season</th>\n",
       "      <th>home_team_win</th>\n",
       "      <th>home_team_loss</th>\n",
       "      <th>home_team_outcome</th>\n",
       "    </tr>\n",
       "  </thead>\n",
       "  <tbody>\n",
       "    <tr>\n",
       "      <th>2026</th>\n",
       "      <td>2026</td>\n",
       "      <td>21753.0</td>\n",
       "      <td>San Francisco Giants</td>\n",
       "      <td>0</td>\n",
       "      <td>8</td>\n",
       "      <td>3</td>\n",
       "      <td>2016-05-13</td>\n",
       "      <td>on grass</td>\n",
       "      <td>Night Game</td>\n",
       "      <td>Arizona Diamondbacks</td>\n",
       "      <td>...</td>\n",
       "      <td>101.0</td>\n",
       "      <td>9.0</td>\n",
       "      <td>in unknown direction</td>\n",
       "      <td>Sunny</td>\n",
       "      <td>4</td>\n",
       "      <td>3.0</td>\n",
       "      <td>regular season</td>\n",
       "      <td>0</td>\n",
       "      <td>1</td>\n",
       "      <td>Loss</td>\n",
       "    </tr>\n",
       "  </tbody>\n",
       "</table>\n",
       "<p>1 rows × 26 columns</p>\n",
       "</div>"
      ],
      "text/plain": [
       "      Unnamed: 0  attendance             away_team  away_team_errors  \\\n",
       "2026        2026     21753.0  San Francisco Giants                 0   \n",
       "\n",
       "      away_team_hits  away_team_runs        date field_type   game_type  \\\n",
       "2026               8               3  2016-05-13   on grass  Night Game   \n",
       "\n",
       "                 home_team  ...  temperature  wind_speed  \\\n",
       "2026  Arizona Diamondbacks  ...        101.0         9.0   \n",
       "\n",
       "             wind_direction    sky total_runs game_hours_dec          season  \\\n",
       "2026   in unknown direction  Sunny          4            3.0  regular season   \n",
       "\n",
       "      home_team_win home_team_loss home_team_outcome  \n",
       "2026              0              1              Loss  \n",
       "\n",
       "[1 rows x 26 columns]"
      ]
     },
     "execution_count": 96,
     "metadata": {},
     "output_type": "execute_result"
    }
   ],
   "source": [
    "data.nlargest(1,'temperature')"
   ]
  },
  {
   "cell_type": "markdown",
   "metadata": {
    "jp-MarkdownHeadingCollapsed": true,
    "pycharm": {
     "name": "#%% md\n"
    }
   },
   "source": [
    "# 4. Какая игра в сезоне была самая долгая по продолжительности матча?"
   ]
  },
  {
   "cell_type": "code",
   "execution_count": 92,
   "metadata": {
    "pycharm": {
     "name": "#%%\n"
    }
   },
   "outputs": [
    {
     "data": {
      "text/html": [
       "<div>\n",
       "<style scoped>\n",
       "    .dataframe tbody tr th:only-of-type {\n",
       "        vertical-align: middle;\n",
       "    }\n",
       "\n",
       "    .dataframe tbody tr th {\n",
       "        vertical-align: top;\n",
       "    }\n",
       "\n",
       "    .dataframe thead th {\n",
       "        text-align: right;\n",
       "    }\n",
       "</style>\n",
       "<table border=\"1\" class=\"dataframe\">\n",
       "  <thead>\n",
       "    <tr style=\"text-align: right;\">\n",
       "      <th></th>\n",
       "      <th>Unnamed: 0</th>\n",
       "      <th>attendance</th>\n",
       "      <th>away_team</th>\n",
       "      <th>away_team_errors</th>\n",
       "      <th>away_team_hits</th>\n",
       "      <th>away_team_runs</th>\n",
       "      <th>date</th>\n",
       "      <th>field_type</th>\n",
       "      <th>game_type</th>\n",
       "      <th>home_team</th>\n",
       "      <th>...</th>\n",
       "      <th>temperature</th>\n",
       "      <th>wind_speed</th>\n",
       "      <th>wind_direction</th>\n",
       "      <th>sky</th>\n",
       "      <th>total_runs</th>\n",
       "      <th>game_hours_dec</th>\n",
       "      <th>season</th>\n",
       "      <th>home_team_win</th>\n",
       "      <th>home_team_loss</th>\n",
       "      <th>home_team_outcome</th>\n",
       "    </tr>\n",
       "  </thead>\n",
       "  <tbody>\n",
       "    <tr>\n",
       "      <th>1445</th>\n",
       "      <td>1445</td>\n",
       "      <td>45825.0</td>\n",
       "      <td>Cleveland Indians</td>\n",
       "      <td>0</td>\n",
       "      <td>15</td>\n",
       "      <td>2</td>\n",
       "      <td>2016-07-01</td>\n",
       "      <td>on turf</td>\n",
       "      <td>Day Game</td>\n",
       "      <td>Toronto Blue Jays</td>\n",
       "      <td>...</td>\n",
       "      <td>68.0</td>\n",
       "      <td>0.0</td>\n",
       "      <td>in unknown direction</td>\n",
       "      <td>In Dome</td>\n",
       "      <td>3</td>\n",
       "      <td>6.216667</td>\n",
       "      <td>regular season</td>\n",
       "      <td>0</td>\n",
       "      <td>1</td>\n",
       "      <td>Loss</td>\n",
       "    </tr>\n",
       "  </tbody>\n",
       "</table>\n",
       "<p>1 rows × 26 columns</p>\n",
       "</div>"
      ],
      "text/plain": [
       "      Unnamed: 0  attendance          away_team  away_team_errors  \\\n",
       "1445        1445     45825.0  Cleveland Indians                 0   \n",
       "\n",
       "      away_team_hits  away_team_runs        date field_type game_type  \\\n",
       "1445              15               2  2016-07-01    on turf  Day Game   \n",
       "\n",
       "              home_team  ...  temperature  wind_speed         wind_direction  \\\n",
       "1445  Toronto Blue Jays  ...         68.0         0.0   in unknown direction   \n",
       "\n",
       "          sky total_runs game_hours_dec          season  home_team_win  \\\n",
       "1445  In Dome          3       6.216667  regular season              0   \n",
       "\n",
       "     home_team_loss home_team_outcome  \n",
       "1445              1              Loss  \n",
       "\n",
       "[1 rows x 26 columns]"
      ]
     },
     "execution_count": 92,
     "metadata": {},
     "output_type": "execute_result"
    }
   ],
   "source": [
    "data.nlargest(1,'game_hours_dec')"
   ]
  },
  {
   "cell_type": "markdown",
   "metadata": {
    "jp-MarkdownHeadingCollapsed": true,
    "pycharm": {
     "name": "#%% md\n"
    }
   },
   "source": [
    "# 5. Какая игра в сезоне была самая короткая по продолжительности матча?"
   ]
  },
  {
   "cell_type": "code",
   "execution_count": 104,
   "metadata": {
    "pycharm": {
     "name": "#%%\n"
    }
   },
   "outputs": [
    {
     "data": {
      "text/html": [
       "<div>\n",
       "<style scoped>\n",
       "    .dataframe tbody tr th:only-of-type {\n",
       "        vertical-align: middle;\n",
       "    }\n",
       "\n",
       "    .dataframe tbody tr th {\n",
       "        vertical-align: top;\n",
       "    }\n",
       "\n",
       "    .dataframe thead th {\n",
       "        text-align: right;\n",
       "    }\n",
       "</style>\n",
       "<table border=\"1\" class=\"dataframe\">\n",
       "  <thead>\n",
       "    <tr style=\"text-align: right;\">\n",
       "      <th></th>\n",
       "      <th>Unnamed: 0</th>\n",
       "      <th>attendance</th>\n",
       "      <th>away_team</th>\n",
       "      <th>away_team_errors</th>\n",
       "      <th>away_team_hits</th>\n",
       "      <th>away_team_runs</th>\n",
       "      <th>date</th>\n",
       "      <th>field_type</th>\n",
       "      <th>game_type</th>\n",
       "      <th>home_team</th>\n",
       "      <th>...</th>\n",
       "      <th>temperature</th>\n",
       "      <th>wind_speed</th>\n",
       "      <th>wind_direction</th>\n",
       "      <th>sky</th>\n",
       "      <th>total_runs</th>\n",
       "      <th>game_hours_dec</th>\n",
       "      <th>season</th>\n",
       "      <th>home_team_win</th>\n",
       "      <th>home_team_loss</th>\n",
       "      <th>home_team_outcome</th>\n",
       "    </tr>\n",
       "  </thead>\n",
       "  <tbody>\n",
       "    <tr>\n",
       "      <th>423</th>\n",
       "      <td>423</td>\n",
       "      <td>19991.0</td>\n",
       "      <td>Chicago Cubs</td>\n",
       "      <td>1</td>\n",
       "      <td>4</td>\n",
       "      <td>1</td>\n",
       "      <td>2016-09-29</td>\n",
       "      <td>on grass</td>\n",
       "      <td>Night Game</td>\n",
       "      <td>Pittsburgh Pirates</td>\n",
       "      <td>...</td>\n",
       "      <td>63.0</td>\n",
       "      <td>12.0</td>\n",
       "      <td>in from Leftfield</td>\n",
       "      <td>Overcast</td>\n",
       "      <td>2</td>\n",
       "      <td>1.25</td>\n",
       "      <td>regular season</td>\n",
       "      <td>0</td>\n",
       "      <td>0</td>\n",
       "      <td>Loss</td>\n",
       "    </tr>\n",
       "  </tbody>\n",
       "</table>\n",
       "<p>1 rows × 26 columns</p>\n",
       "</div>"
      ],
      "text/plain": [
       "     Unnamed: 0  attendance     away_team  away_team_errors  away_team_hits  \\\n",
       "423         423     19991.0  Chicago Cubs                 1               4   \n",
       "\n",
       "     away_team_runs        date field_type   game_type           home_team  \\\n",
       "423               1  2016-09-29   on grass  Night Game  Pittsburgh Pirates   \n",
       "\n",
       "     ...  temperature  wind_speed      wind_direction       sky total_runs  \\\n",
       "423  ...         63.0        12.0   in from Leftfield  Overcast          2   \n",
       "\n",
       "    game_hours_dec          season  home_team_win home_team_loss  \\\n",
       "423           1.25  regular season              0              0   \n",
       "\n",
       "    home_team_outcome  \n",
       "423              Loss  \n",
       "\n",
       "[1 rows x 26 columns]"
      ]
     },
     "execution_count": 104,
     "metadata": {},
     "output_type": "execute_result"
    }
   ],
   "source": [
    "data.nsmallest(1,'game_hours_dec')"
   ]
  },
  {
   "cell_type": "markdown",
   "metadata": {
    "jp-MarkdownHeadingCollapsed": true,
    "pycharm": {
     "name": "#%% md\n"
    }
   },
   "source": [
    "# 6. Сколько матчей в сезоне закончилось ничьей?"
   ]
  },
  {
   "cell_type": "code",
   "execution_count": 106,
   "metadata": {
    "pycharm": {
     "name": "#%%\n"
    }
   },
   "outputs": [
    {
     "name": "stdout",
     "output_type": "stream",
     "text": [
      "Количество матчей, закончившихся ничьей: 1\n"
     ]
    }
   ],
   "source": [
    "draws = data[(data['home_team_win'] == data['home_team_loss'])]\n",
    "\n",
    "# Количество ничьих\n",
    "num_draws = draws.shape[0]\n",
    "\n",
    "print(f\"Количество матчей, закончившихся ничьей: {num_draws}\")"
   ]
  },
  {
   "cell_type": "markdown",
   "metadata": {
    "jp-MarkdownHeadingCollapsed": true,
    "pycharm": {
     "name": "#%% md\n"
    }
   },
   "source": [
    "# 7. Какая игра была последней в сезоне?"
   ]
  },
  {
   "cell_type": "code",
   "execution_count": 136,
   "metadata": {
    "pycharm": {
     "name": "#%%\n"
    }
   },
   "outputs": [
    {
     "data": {
      "text/html": [
       "<div>\n",
       "<style scoped>\n",
       "    .dataframe tbody tr th:only-of-type {\n",
       "        vertical-align: middle;\n",
       "    }\n",
       "\n",
       "    .dataframe tbody tr th {\n",
       "        vertical-align: top;\n",
       "    }\n",
       "\n",
       "    .dataframe thead th {\n",
       "        text-align: right;\n",
       "    }\n",
       "</style>\n",
       "<table border=\"1\" class=\"dataframe\">\n",
       "  <thead>\n",
       "    <tr style=\"text-align: right;\">\n",
       "      <th></th>\n",
       "      <th>Unnamed: 0</th>\n",
       "      <th>attendance</th>\n",
       "      <th>away_team</th>\n",
       "      <th>away_team_errors</th>\n",
       "      <th>away_team_hits</th>\n",
       "      <th>away_team_runs</th>\n",
       "      <th>date</th>\n",
       "      <th>field_type</th>\n",
       "      <th>game_type</th>\n",
       "      <th>home_team</th>\n",
       "      <th>...</th>\n",
       "      <th>temperature</th>\n",
       "      <th>wind_speed</th>\n",
       "      <th>wind_direction</th>\n",
       "      <th>sky</th>\n",
       "      <th>total_runs</th>\n",
       "      <th>game_hours_dec</th>\n",
       "      <th>season</th>\n",
       "      <th>home_team_win</th>\n",
       "      <th>home_team_loss</th>\n",
       "      <th>home_team_outcome</th>\n",
       "    </tr>\n",
       "  </thead>\n",
       "  <tbody>\n",
       "    <tr>\n",
       "      <th>350</th>\n",
       "      <td>350</td>\n",
       "      <td>38104.0</td>\n",
       "      <td>Chicago Cubs</td>\n",
       "      <td>3</td>\n",
       "      <td>13</td>\n",
       "      <td>8</td>\n",
       "      <td>2016-11-02</td>\n",
       "      <td>on grass</td>\n",
       "      <td>Night Game</td>\n",
       "      <td>Cleveland Indians</td>\n",
       "      <td>...</td>\n",
       "      <td>69.0</td>\n",
       "      <td>7.0</td>\n",
       "      <td>from Left to Right</td>\n",
       "      <td>Cloudy</td>\n",
       "      <td>15</td>\n",
       "      <td>4.466667</td>\n",
       "      <td>post season</td>\n",
       "      <td>0</td>\n",
       "      <td>1</td>\n",
       "      <td>Loss</td>\n",
       "    </tr>\n",
       "  </tbody>\n",
       "</table>\n",
       "<p>1 rows × 26 columns</p>\n",
       "</div>"
      ],
      "text/plain": [
       "     Unnamed: 0  attendance     away_team  away_team_errors  away_team_hits  \\\n",
       "350         350     38104.0  Chicago Cubs                 3              13   \n",
       "\n",
       "     away_team_runs        date field_type   game_type          home_team  \\\n",
       "350               8  2016-11-02   on grass  Night Game  Cleveland Indians   \n",
       "\n",
       "     ...  temperature  wind_speed       wind_direction     sky total_runs  \\\n",
       "350  ...         69.0         7.0   from Left to Right  Cloudy         15   \n",
       "\n",
       "    game_hours_dec       season  home_team_win home_team_loss  \\\n",
       "350       4.466667  post season              0              1   \n",
       "\n",
       "    home_team_outcome  \n",
       "350              Loss  \n",
       "\n",
       "[1 rows x 26 columns]"
      ]
     },
     "execution_count": 136,
     "metadata": {},
     "output_type": "execute_result"
    }
   ],
   "source": [
    "#data.loc[data['date'].idxmax()]\n",
    "#data.loc[data['date'].argmax()]   # returns a Series\n",
    "data[data.date == data.date.max()]\n"
   ]
  },
  {
   "cell_type": "markdown",
   "metadata": {
    "jp-MarkdownHeadingCollapsed": true,
    "pycharm": {
     "name": "#%% md\n"
    }
   },
   "source": [
    "# 8. У какой игры было минимальное количество зрителей?"
   ]
  },
  {
   "cell_type": "code",
   "execution_count": 142,
   "metadata": {
    "pycharm": {
     "name": "#%%\n"
    }
   },
   "outputs": [
    {
     "data": {
      "text/html": [
       "<div>\n",
       "<style scoped>\n",
       "    .dataframe tbody tr th:only-of-type {\n",
       "        vertical-align: middle;\n",
       "    }\n",
       "\n",
       "    .dataframe tbody tr th {\n",
       "        vertical-align: top;\n",
       "    }\n",
       "\n",
       "    .dataframe thead th {\n",
       "        text-align: right;\n",
       "    }\n",
       "</style>\n",
       "<table border=\"1\" class=\"dataframe\">\n",
       "  <thead>\n",
       "    <tr style=\"text-align: right;\">\n",
       "      <th></th>\n",
       "      <th>Unnamed: 0</th>\n",
       "      <th>attendance</th>\n",
       "      <th>away_team</th>\n",
       "      <th>away_team_errors</th>\n",
       "      <th>away_team_hits</th>\n",
       "      <th>away_team_runs</th>\n",
       "      <th>date</th>\n",
       "      <th>field_type</th>\n",
       "      <th>game_type</th>\n",
       "      <th>home_team</th>\n",
       "      <th>...</th>\n",
       "      <th>temperature</th>\n",
       "      <th>wind_speed</th>\n",
       "      <th>wind_direction</th>\n",
       "      <th>sky</th>\n",
       "      <th>total_runs</th>\n",
       "      <th>game_hours_dec</th>\n",
       "      <th>season</th>\n",
       "      <th>home_team_win</th>\n",
       "      <th>home_team_loss</th>\n",
       "      <th>home_team_outcome</th>\n",
       "    </tr>\n",
       "  </thead>\n",
       "  <tbody>\n",
       "    <tr>\n",
       "      <th>2130</th>\n",
       "      <td>2130</td>\n",
       "      <td>8766.0</td>\n",
       "      <td>Detroit Tigers</td>\n",
       "      <td>0</td>\n",
       "      <td>5</td>\n",
       "      <td>0</td>\n",
       "      <td>2016-05-04</td>\n",
       "      <td>on grass</td>\n",
       "      <td>Night Game</td>\n",
       "      <td>Cleveland Indians</td>\n",
       "      <td>...</td>\n",
       "      <td>54.0</td>\n",
       "      <td>11.0</td>\n",
       "      <td>from Left to Right</td>\n",
       "      <td>Overcast</td>\n",
       "      <td>4</td>\n",
       "      <td>2.316667</td>\n",
       "      <td>regular season</td>\n",
       "      <td>1</td>\n",
       "      <td>0</td>\n",
       "      <td>Win</td>\n",
       "    </tr>\n",
       "  </tbody>\n",
       "</table>\n",
       "<p>1 rows × 26 columns</p>\n",
       "</div>"
      ],
      "text/plain": [
       "      Unnamed: 0  attendance       away_team  away_team_errors  \\\n",
       "2130        2130      8766.0  Detroit Tigers                 0   \n",
       "\n",
       "      away_team_hits  away_team_runs        date field_type   game_type  \\\n",
       "2130               5               0  2016-05-04   on grass  Night Game   \n",
       "\n",
       "              home_team  ...  temperature  wind_speed       wind_direction  \\\n",
       "2130  Cleveland Indians  ...         54.0        11.0   from Left to Right   \n",
       "\n",
       "           sky total_runs game_hours_dec          season  home_team_win  \\\n",
       "2130  Overcast          4       2.316667  regular season              1   \n",
       "\n",
       "     home_team_loss home_team_outcome  \n",
       "2130              0               Win  \n",
       "\n",
       "[1 rows x 26 columns]"
      ]
     },
     "execution_count": 142,
     "metadata": {},
     "output_type": "execute_result"
    }
   ],
   "source": [
    "data.nsmallest(1,'attendance')"
   ]
  },
  {
   "cell_type": "markdown",
   "metadata": {
    "jp-MarkdownHeadingCollapsed": true,
    "pycharm": {
     "name": "#%% md\n"
    }
   },
   "source": [
    "# 9. Какая игра в сезоне была самая ветренная?"
   ]
  },
  {
   "cell_type": "code",
   "execution_count": 146,
   "metadata": {
    "pycharm": {
     "name": "#%%\n"
    }
   },
   "outputs": [
    {
     "data": {
      "text/html": [
       "<div>\n",
       "<style scoped>\n",
       "    .dataframe tbody tr th:only-of-type {\n",
       "        vertical-align: middle;\n",
       "    }\n",
       "\n",
       "    .dataframe tbody tr th {\n",
       "        vertical-align: top;\n",
       "    }\n",
       "\n",
       "    .dataframe thead th {\n",
       "        text-align: right;\n",
       "    }\n",
       "</style>\n",
       "<table border=\"1\" class=\"dataframe\">\n",
       "  <thead>\n",
       "    <tr style=\"text-align: right;\">\n",
       "      <th></th>\n",
       "      <th>Unnamed: 0</th>\n",
       "      <th>attendance</th>\n",
       "      <th>away_team</th>\n",
       "      <th>away_team_errors</th>\n",
       "      <th>away_team_hits</th>\n",
       "      <th>away_team_runs</th>\n",
       "      <th>date</th>\n",
       "      <th>field_type</th>\n",
       "      <th>game_type</th>\n",
       "      <th>home_team</th>\n",
       "      <th>...</th>\n",
       "      <th>temperature</th>\n",
       "      <th>wind_speed</th>\n",
       "      <th>wind_direction</th>\n",
       "      <th>sky</th>\n",
       "      <th>total_runs</th>\n",
       "      <th>game_hours_dec</th>\n",
       "      <th>season</th>\n",
       "      <th>home_team_win</th>\n",
       "      <th>home_team_loss</th>\n",
       "      <th>home_team_outcome</th>\n",
       "    </tr>\n",
       "  </thead>\n",
       "  <tbody>\n",
       "    <tr>\n",
       "      <th>1655</th>\n",
       "      <td>1655</td>\n",
       "      <td>41543.0</td>\n",
       "      <td>Milwaukee Brewers</td>\n",
       "      <td>1</td>\n",
       "      <td>11</td>\n",
       "      <td>5</td>\n",
       "      <td>2016-06-13</td>\n",
       "      <td>on grass</td>\n",
       "      <td>Night Game</td>\n",
       "      <td>San Francisco Giants</td>\n",
       "      <td>...</td>\n",
       "      <td>58.0</td>\n",
       "      <td>25.0</td>\n",
       "      <td>out to Centerfield</td>\n",
       "      <td>Cloudy</td>\n",
       "      <td>16</td>\n",
       "      <td>3.633333</td>\n",
       "      <td>regular season</td>\n",
       "      <td>1</td>\n",
       "      <td>0</td>\n",
       "      <td>Win</td>\n",
       "    </tr>\n",
       "    <tr>\n",
       "      <th>2005</th>\n",
       "      <td>2005</td>\n",
       "      <td>35736.0</td>\n",
       "      <td>Houston Astros</td>\n",
       "      <td>2</td>\n",
       "      <td>8</td>\n",
       "      <td>9</td>\n",
       "      <td>2016-05-15</td>\n",
       "      <td>on grass</td>\n",
       "      <td>Day Game</td>\n",
       "      <td>Boston Red Sox</td>\n",
       "      <td>...</td>\n",
       "      <td>58.0</td>\n",
       "      <td>25.0</td>\n",
       "      <td>out to Rightfield</td>\n",
       "      <td>Cloudy</td>\n",
       "      <td>19</td>\n",
       "      <td>3.666667</td>\n",
       "      <td>regular season</td>\n",
       "      <td>1</td>\n",
       "      <td>0</td>\n",
       "      <td>Win</td>\n",
       "    </tr>\n",
       "  </tbody>\n",
       "</table>\n",
       "<p>2 rows × 26 columns</p>\n",
       "</div>"
      ],
      "text/plain": [
       "      Unnamed: 0  attendance          away_team  away_team_errors  \\\n",
       "1655        1655     41543.0  Milwaukee Brewers                 1   \n",
       "2005        2005     35736.0     Houston Astros                 2   \n",
       "\n",
       "      away_team_hits  away_team_runs        date field_type   game_type  \\\n",
       "1655              11               5  2016-06-13   on grass  Night Game   \n",
       "2005               8               9  2016-05-15   on grass    Day Game   \n",
       "\n",
       "                 home_team  ...  temperature  wind_speed       wind_direction  \\\n",
       "1655  San Francisco Giants  ...         58.0        25.0   out to Centerfield   \n",
       "2005        Boston Red Sox  ...         58.0        25.0    out to Rightfield   \n",
       "\n",
       "         sky total_runs game_hours_dec          season  home_team_win  \\\n",
       "1655  Cloudy         16       3.633333  regular season              1   \n",
       "2005  Cloudy         19       3.666667  regular season              1   \n",
       "\n",
       "     home_team_loss home_team_outcome  \n",
       "1655              0               Win  \n",
       "2005              0               Win  \n",
       "\n",
       "[2 rows x 26 columns]"
      ]
     },
     "execution_count": 146,
     "metadata": {},
     "output_type": "execute_result"
    }
   ],
   "source": [
    "#data.loc[data['wind_speed'].idxmax()]\n",
    "# Оказалось, что было 2 игры с максимальной скоростью ветра = 25.0\n",
    "data.nlargest(2,'wind_speed')"
   ]
  },
  {
   "cell_type": "markdown",
   "metadata": {
    "jp-MarkdownHeadingCollapsed": true,
    "pycharm": {
     "name": "#%% md\n"
    }
   },
   "source": [
    "# 10. В какой игре получили максимальное количество очков?"
   ]
  },
  {
   "cell_type": "code",
   "execution_count": 154,
   "metadata": {
    "pycharm": {
     "name": "#%%\n"
    }
   },
   "outputs": [
    {
     "data": {
      "text/html": [
       "<div>\n",
       "<style scoped>\n",
       "    .dataframe tbody tr th:only-of-type {\n",
       "        vertical-align: middle;\n",
       "    }\n",
       "\n",
       "    .dataframe tbody tr th {\n",
       "        vertical-align: top;\n",
       "    }\n",
       "\n",
       "    .dataframe thead th {\n",
       "        text-align: right;\n",
       "    }\n",
       "</style>\n",
       "<table border=\"1\" class=\"dataframe\">\n",
       "  <thead>\n",
       "    <tr style=\"text-align: right;\">\n",
       "      <th></th>\n",
       "      <th>Unnamed: 0</th>\n",
       "      <th>attendance</th>\n",
       "      <th>away_team</th>\n",
       "      <th>away_team_errors</th>\n",
       "      <th>away_team_hits</th>\n",
       "      <th>away_team_runs</th>\n",
       "      <th>date</th>\n",
       "      <th>field_type</th>\n",
       "      <th>game_type</th>\n",
       "      <th>home_team</th>\n",
       "      <th>...</th>\n",
       "      <th>temperature</th>\n",
       "      <th>wind_speed</th>\n",
       "      <th>wind_direction</th>\n",
       "      <th>sky</th>\n",
       "      <th>total_runs</th>\n",
       "      <th>game_hours_dec</th>\n",
       "      <th>season</th>\n",
       "      <th>home_team_win</th>\n",
       "      <th>home_team_loss</th>\n",
       "      <th>home_team_outcome</th>\n",
       "    </tr>\n",
       "  </thead>\n",
       "  <tbody>\n",
       "    <tr>\n",
       "      <th>1788</th>\n",
       "      <td>1788</td>\n",
       "      <td>22588.0</td>\n",
       "      <td>Seattle Mariners</td>\n",
       "      <td>1</td>\n",
       "      <td>16</td>\n",
       "      <td>16</td>\n",
       "      <td>2016-06-02</td>\n",
       "      <td>on grass</td>\n",
       "      <td>Night Game</td>\n",
       "      <td>San Diego Padres</td>\n",
       "      <td>...</td>\n",
       "      <td>76.0</td>\n",
       "      <td>10.0</td>\n",
       "      <td>out to Rightfield</td>\n",
       "      <td>Sunny</td>\n",
       "      <td>29</td>\n",
       "      <td>3.833333</td>\n",
       "      <td>regular season</td>\n",
       "      <td>0</td>\n",
       "      <td>1</td>\n",
       "      <td>Loss</td>\n",
       "    </tr>\n",
       "  </tbody>\n",
       "</table>\n",
       "<p>1 rows × 26 columns</p>\n",
       "</div>"
      ],
      "text/plain": [
       "      Unnamed: 0  attendance         away_team  away_team_errors  \\\n",
       "1788        1788     22588.0  Seattle Mariners                 1   \n",
       "\n",
       "      away_team_hits  away_team_runs        date field_type   game_type  \\\n",
       "1788              16              16  2016-06-02   on grass  Night Game   \n",
       "\n",
       "             home_team  ...  temperature  wind_speed      wind_direction  \\\n",
       "1788  San Diego Padres  ...         76.0        10.0   out to Rightfield   \n",
       "\n",
       "        sky total_runs game_hours_dec          season  home_team_win  \\\n",
       "1788  Sunny         29       3.833333  regular season              0   \n",
       "\n",
       "     home_team_loss home_team_outcome  \n",
       "1788              1              Loss  \n",
       "\n",
       "[1 rows x 26 columns]"
      ]
     },
     "execution_count": 154,
     "metadata": {},
     "output_type": "execute_result"
    }
   ],
   "source": [
    "# Создание DataFrame\n",
    "df = pd.DataFrame(data)\n",
    "\n",
    "# Вычисление суммы очков для каждой игры\n",
    "df['total_runs'] = df['home_team_runs'] + df['away_team_runs']\n",
    "\n",
    "# Нахождение игры с максимальным количеством очков\n",
    "df.nlargest(1, 'total_runs')\n"
   ]
  },
  {
   "cell_type": "markdown",
   "metadata": {
    "pycharm": {
     "name": "#%% md\n"
    }
   },
   "source": [
    "# 11. Какая игра содержала максимальное количество ошибок домашней команды?"
   ]
  },
  {
   "cell_type": "code",
   "execution_count": 166,
   "metadata": {
    "pycharm": {
     "name": "#%%\n"
    }
   },
   "outputs": [
    {
     "data": {
      "text/html": [
       "<div>\n",
       "<style scoped>\n",
       "    .dataframe tbody tr th:only-of-type {\n",
       "        vertical-align: middle;\n",
       "    }\n",
       "\n",
       "    .dataframe tbody tr th {\n",
       "        vertical-align: top;\n",
       "    }\n",
       "\n",
       "    .dataframe thead th {\n",
       "        text-align: right;\n",
       "    }\n",
       "</style>\n",
       "<table border=\"1\" class=\"dataframe\">\n",
       "  <thead>\n",
       "    <tr style=\"text-align: right;\">\n",
       "      <th></th>\n",
       "      <th>Unnamed: 0</th>\n",
       "      <th>attendance</th>\n",
       "      <th>away_team</th>\n",
       "      <th>away_team_errors</th>\n",
       "      <th>away_team_hits</th>\n",
       "      <th>away_team_runs</th>\n",
       "      <th>date</th>\n",
       "      <th>field_type</th>\n",
       "      <th>game_type</th>\n",
       "      <th>home_team</th>\n",
       "      <th>...</th>\n",
       "      <th>temperature</th>\n",
       "      <th>wind_speed</th>\n",
       "      <th>wind_direction</th>\n",
       "      <th>sky</th>\n",
       "      <th>total_runs</th>\n",
       "      <th>game_hours_dec</th>\n",
       "      <th>season</th>\n",
       "      <th>home_team_win</th>\n",
       "      <th>home_team_loss</th>\n",
       "      <th>home_team_outcome</th>\n",
       "    </tr>\n",
       "  </thead>\n",
       "  <tbody>\n",
       "    <tr>\n",
       "      <th>1178</th>\n",
       "      <td>1178</td>\n",
       "      <td>22581.0</td>\n",
       "      <td>Arizona Diamondbacks</td>\n",
       "      <td>1</td>\n",
       "      <td>11</td>\n",
       "      <td>8</td>\n",
       "      <td>2016-07-27</td>\n",
       "      <td>on grass</td>\n",
       "      <td>Night Game</td>\n",
       "      <td>Milwaukee Brewers</td>\n",
       "      <td>...</td>\n",
       "      <td>77.0</td>\n",
       "      <td>9.0</td>\n",
       "      <td>in from Leftfield</td>\n",
       "      <td>Cloudy</td>\n",
       "      <td>9</td>\n",
       "      <td>2.933333</td>\n",
       "      <td>regular season</td>\n",
       "      <td>0</td>\n",
       "      <td>1</td>\n",
       "      <td>Loss</td>\n",
       "    </tr>\n",
       "  </tbody>\n",
       "</table>\n",
       "<p>1 rows × 26 columns</p>\n",
       "</div>"
      ],
      "text/plain": [
       "      Unnamed: 0  attendance             away_team  away_team_errors  \\\n",
       "1178        1178     22581.0  Arizona Diamondbacks                 1   \n",
       "\n",
       "      away_team_hits  away_team_runs        date field_type   game_type  \\\n",
       "1178              11               8  2016-07-27   on grass  Night Game   \n",
       "\n",
       "              home_team  ...  temperature  wind_speed      wind_direction  \\\n",
       "1178  Milwaukee Brewers  ...         77.0         9.0   in from Leftfield   \n",
       "\n",
       "         sky total_runs game_hours_dec          season  home_team_win  \\\n",
       "1178  Cloudy          9       2.933333  regular season              0   \n",
       "\n",
       "     home_team_loss home_team_outcome  \n",
       "1178              1              Loss  \n",
       "\n",
       "[1 rows x 26 columns]"
      ]
     },
     "execution_count": 166,
     "metadata": {},
     "output_type": "execute_result"
    }
   ],
   "source": [
    "data.nlargest(1,'home_team_errors')"
   ]
  },
  {
   "cell_type": "markdown",
   "metadata": {
    "pycharm": {
     "name": "#%% md\n"
    }
   },
   "source": [
    "# 12. В какой игре было максимальное количество ранов?"
   ]
  },
  {
   "cell_type": "code",
   "execution_count": 174,
   "metadata": {
    "pycharm": {
     "name": "#%%\n"
    }
   },
   "outputs": [
    {
     "data": {
      "text/html": [
       "<div>\n",
       "<style scoped>\n",
       "    .dataframe tbody tr th:only-of-type {\n",
       "        vertical-align: middle;\n",
       "    }\n",
       "\n",
       "    .dataframe tbody tr th {\n",
       "        vertical-align: top;\n",
       "    }\n",
       "\n",
       "    .dataframe thead th {\n",
       "        text-align: right;\n",
       "    }\n",
       "</style>\n",
       "<table border=\"1\" class=\"dataframe\">\n",
       "  <thead>\n",
       "    <tr style=\"text-align: right;\">\n",
       "      <th></th>\n",
       "      <th>Unnamed: 0</th>\n",
       "      <th>attendance</th>\n",
       "      <th>away_team</th>\n",
       "      <th>away_team_errors</th>\n",
       "      <th>away_team_hits</th>\n",
       "      <th>away_team_runs</th>\n",
       "      <th>date</th>\n",
       "      <th>field_type</th>\n",
       "      <th>game_type</th>\n",
       "      <th>home_team</th>\n",
       "      <th>...</th>\n",
       "      <th>temperature</th>\n",
       "      <th>wind_speed</th>\n",
       "      <th>wind_direction</th>\n",
       "      <th>sky</th>\n",
       "      <th>total_runs</th>\n",
       "      <th>game_hours_dec</th>\n",
       "      <th>season</th>\n",
       "      <th>home_team_win</th>\n",
       "      <th>home_team_loss</th>\n",
       "      <th>home_team_outcome</th>\n",
       "    </tr>\n",
       "  </thead>\n",
       "  <tbody>\n",
       "    <tr>\n",
       "      <th>1788</th>\n",
       "      <td>1788</td>\n",
       "      <td>22588.0</td>\n",
       "      <td>Seattle Mariners</td>\n",
       "      <td>1</td>\n",
       "      <td>16</td>\n",
       "      <td>16</td>\n",
       "      <td>2016-06-02</td>\n",
       "      <td>on grass</td>\n",
       "      <td>Night Game</td>\n",
       "      <td>San Diego Padres</td>\n",
       "      <td>...</td>\n",
       "      <td>76.0</td>\n",
       "      <td>10.0</td>\n",
       "      <td>out to Rightfield</td>\n",
       "      <td>Sunny</td>\n",
       "      <td>29</td>\n",
       "      <td>3.833333</td>\n",
       "      <td>regular season</td>\n",
       "      <td>0</td>\n",
       "      <td>1</td>\n",
       "      <td>Loss</td>\n",
       "    </tr>\n",
       "  </tbody>\n",
       "</table>\n",
       "<p>1 rows × 26 columns</p>\n",
       "</div>"
      ],
      "text/plain": [
       "      Unnamed: 0  attendance         away_team  away_team_errors  \\\n",
       "1788        1788     22588.0  Seattle Mariners                 1   \n",
       "\n",
       "      away_team_hits  away_team_runs        date field_type   game_type  \\\n",
       "1788              16              16  2016-06-02   on grass  Night Game   \n",
       "\n",
       "             home_team  ...  temperature  wind_speed      wind_direction  \\\n",
       "1788  San Diego Padres  ...         76.0        10.0   out to Rightfield   \n",
       "\n",
       "        sky total_runs game_hours_dec          season  home_team_win  \\\n",
       "1788  Sunny         29       3.833333  regular season              0   \n",
       "\n",
       "     home_team_loss home_team_outcome  \n",
       "1788              1              Loss  \n",
       "\n",
       "[1 rows x 26 columns]"
      ]
     },
     "execution_count": 174,
     "metadata": {},
     "output_type": "execute_result"
    }
   ],
   "source": [
    "data.nlargest(1,'total_runs')"
   ]
  },
  {
   "cell_type": "markdown",
   "metadata": {
    "jp-MarkdownHeadingCollapsed": true,
    "pycharm": {
     "name": "#%% md\n"
    }
   },
   "source": [
    "# 13. Выведите количество игр которая сыграла каждая команда в данном сезоне?"
   ]
  },
  {
   "cell_type": "code",
   "execution_count": 182,
   "metadata": {
    "pycharm": {
     "name": "#%%\n"
    }
   },
   "outputs": [
    {
     "name": "stdout",
     "output_type": "stream",
     "text": [
      "Arizona Diamondbacks             162\n",
      "Atlanta Braves                   161\n",
      "Baltimore Orioles                163\n",
      "Boston Red Sox                   165\n",
      "Chicago Cubs                     179\n",
      "Chicago White Sox                162\n",
      "Cincinnati Reds                  162\n",
      "Cleveland Indians                176\n",
      "Colorado Rockies                 162\n",
      "Detroit Tigers                   161\n",
      "Houston Astros                   162\n",
      "Kansas City Royals               162\n",
      "Los Angeles Angels of Anaheim    162\n",
      "Los Angeles Dodgers              173\n",
      "Miami Marlins                    161\n",
      "Milwaukee Brewers                162\n",
      "Minnesota Twins                  162\n",
      "New York Mets                    163\n",
      "New York Yankees                 162\n",
      "Oakland Athletics                162\n",
      "Philadelphia Phillies            162\n",
      "Pittsburgh Pirates               162\n",
      "San Diego Padres                 162\n",
      "San Francisco Giants             167\n",
      "Seattle Mariners                 162\n",
      "St. Louis Cardinals              162\n",
      "Tampa Bay Rays                   162\n",
      "Texas Rangers                    165\n",
      "Toronto Blue Jays                171\n",
      "Washington Nationals             167\n",
      "Name: count, dtype: int32\n"
     ]
    }
   ],
   "source": [
    "# Подсчет количества игр для каждой команды\n",
    "home_games = data['home_team'].value_counts()\n",
    "away_games = data['away_team'].value_counts()\n",
    "\n",
    "# Объединение результатов\n",
    "total_games = home_games.add(away_games, fill_value=0).astype(int)\n",
    "\n",
    "# Вывод количества игр каждой команды\n",
    "print(total_games)"
   ]
  },
  {
   "cell_type": "markdown",
   "metadata": {
    "jp-MarkdownHeadingCollapsed": true,
    "pycharm": {
     "name": "#%% md\n"
    }
   },
   "source": [
    "# 14. Какая команда выиграла наибольшое количество матчей в сезоне? (Будьте внимательны с типом матча в сезоне - season)."
   ]
  },
  {
   "cell_type": "code",
   "execution_count": 40,
   "metadata": {
    "pycharm": {
     "name": "#%%\n"
    }
   },
   "outputs": [
    {
     "name": "stdout",
     "output_type": "stream",
     "text": [
      "Команда, выигравшая наибольшее количество матчей в регулярном сезоне: Chicago Cubs (104 побед)\n"
     ]
    }
   ],
   "source": [
    " # Создание DataFrame\n",
    "df = pd.DataFrame(data)\n",
    "\n",
    "# Фильтрация по регулярному сезону\n",
    "regular_season = df[df['season'] == 'regular season']\n",
    "\n",
    "# Подсчет побед для домашних команд\n",
    "home_wins = regular_season[regular_season['home_team_outcome'] == 'Win']['home_team'].value_counts()\n",
    "\n",
    "# Подсчет побед для выездных команд\n",
    "away_wins = regular_season[regular_season['home_team_outcome'] == 'Loss']['away_team'].value_counts()\n",
    "\n",
    "# Объединение результатов\n",
    "total_wins = home_wins.add(away_wins, fill_value=0).astype(int)\n",
    "\n",
    "# Определение команды с наибольшим количеством побед\n",
    "team_with_most_wins = total_wins.idxmax()  \n",
    "most_wins = total_wins.max() \n",
    "\n",
    "print(f\"Команда, выигравшая наибольшее количество матчей в регулярном сезоне: {team_with_most_wins} ({most_wins} побед)\")\n"
   ]
  },
  {
   "cell_type": "markdown",
   "metadata": {
    "jp-MarkdownHeadingCollapsed": true,
    "pycharm": {
     "name": "#%% md\n"
    }
   },
   "source": [
    "# 15. Какая команда выиграла наибольшее количество домашних матчей в сезоне?"
   ]
  },
  {
   "cell_type": "code",
   "execution_count": 62,
   "metadata": {
    "pycharm": {
     "name": "#%%\n"
    }
   },
   "outputs": [
    {
     "name": "stdout",
     "output_type": "stream",
     "text": [
      "Команда с наибольшим количеством домашних побед: Chicago Cubs (62 побед)\n"
     ]
    }
   ],
   "source": [
    "# Фильтрация домашних побед\n",
    "home_wins = data[data['home_team_runs'] > data['away_team_runs']]\n",
    "\n",
    "# Подсчет побед для каждой команды\n",
    "home_wins_count = home_wins['home_team'].value_counts()\n",
    "\n",
    "# Определение команды с наибольшим количеством домашних побед\n",
    "team_with_most_home_wins = home_wins_count.idxmax()\n",
    "most_home_wins = home_wins_count.max()\n",
    "\n",
    "print(f\"Команда с наибольшим количеством домашних побед: {team_with_most_home_wins} ({most_home_wins} побед)\")"
   ]
  },
  {
   "cell_type": "markdown",
   "metadata": {
    "jp-MarkdownHeadingCollapsed": true,
    "pycharm": {
     "name": "#%% md\n"
    }
   },
   "source": [
    "# 16. Какая команда выиграла наибольшее количество гостевых матчей в сезоне?"
   ]
  },
  {
   "cell_type": "code",
   "execution_count": 50,
   "metadata": {
    "pycharm": {
     "name": "#%%\n"
    }
   },
   "outputs": [
    {
     "name": "stdout",
     "output_type": "stream",
     "text": [
      "Команда с наибольшим количеством гостевых побед: Chicago Cubs (53 побед)\n"
     ]
    }
   ],
   "source": [
    "# Фильтрация данных для выездных побед\n",
    "away_wins = data[data['home_team_outcome'] == 'Loss']\n",
    "\n",
    "# Подсчет побед для каждой выездной команды\n",
    "away_wins_count = away_wins['away_team'].value_counts()\n",
    "\n",
    "# Определение команды с наибольшим количеством выездных побед\n",
    "team_with_most_away_wins = away_wins_count.idxmax()  \n",
    "most_away_wins = away_wins_count.max()  \n",
    "\n",
    "print(f\"Команда с наибольшим количеством гостевых побед: {team_with_most_away_wins} ({most_away_wins} побед)\")"
   ]
  },
  {
   "cell_type": "markdown",
   "metadata": {
    "pycharm": {
     "name": "#%% md\n"
    }
   },
   "source": [
    "# 17. Какая команда проиграла наибольшее количество матчей в сезоне?"
   ]
  },
  {
   "cell_type": "code",
   "execution_count": 52,
   "metadata": {
    "pycharm": {
     "name": "#%%\n"
    }
   },
   "outputs": [
    {
     "name": "stdout",
     "output_type": "stream",
     "text": [
      "Команда, проигравшая наибольшее количество матчей: Minnesota Twins (103 поражений)\n"
     ]
    }
   ],
   "source": [
    "# Подсчет поражений для каждой команды\n",
    "losses_count = data[data['home_team_outcome'] == 'Loss']['home_team'].value_counts()\n",
    "losses_count = losses_count.add(data[data['home_team_outcome'] == 'Win']['away_team'].value_counts(), fill_value=0)\n",
    "\n",
    "# Определение команды с наибольшим количеством поражений\n",
    "team_with_most_losses = losses_count.idxmax()   \n",
    "most_losses = losses_count.max()  \n",
    "\n",
    "print(f\"Команда, проигравшая наибольшее количество матчей: {team_with_most_losses} ({most_losses} поражений)\")"
   ]
  },
  {
   "cell_type": "markdown",
   "metadata": {
    "pycharm": {
     "name": "#%% md\n"
    }
   },
   "source": [
    "# 18. Зависит ли выигрыш от количества посетителей матча? (https://pandas.pydata.org/docs/reference/api/pandas.DataFrame.cov.html)"
   ]
  },
  {
   "cell_type": "code",
   "execution_count": 62,
   "metadata": {
    "pycharm": {
     "name": "#%%\n"
    }
   },
   "outputs": [
    {
     "name": "stdout",
     "output_type": "stream",
     "text": [
      "Ковариация между количеством зрителей и выигрышем домашней команды: 224.97\n"
     ]
    }
   ],
   "source": [
    "df = pd.DataFrame(data)\n",
    "\n",
    "# Кодируем результаты матча: 1 - выигрыш, 0 - проигрыш\n",
    "df['home_team_outcome_numeric'] = df['home_team_outcome'].map({'Win': 1, 'Loss': 0})\n",
    "\n",
    "# Рассчитываем ковариацию между количеством зрителей и результатом\n",
    "covariance = df[['attendance', 'home_team_outcome_numeric']].cov().iloc[0, 1]\n",
    "\n",
    "print(f\"Ковариация между количеством зрителей и выигрышем домашней команды: {covariance:.2f}\")"
   ]
  },
  {
   "cell_type": "markdown",
   "metadata": {
    "jp-MarkdownHeadingCollapsed": true,
    "pycharm": {
     "name": "#%% md\n"
    }
   },
   "source": [
    "# 19. Правда ли что большинство проигрышных домашних матчей приходятся на Субботу и Воскресенье?"
   ]
  },
  {
   "cell_type": "code",
   "execution_count": 58,
   "metadata": {
    "pycharm": {
     "name": "#%%\n"
    }
   },
   "outputs": [
    {
     "name": "stdout",
     "output_type": "stream",
     "text": [
      "Процент проигрышных домашних матчей на выходных (cуббота и dоскресенье): 31.49%\n"
     ]
    }
   ],
   "source": [
    " # Создание DataFrame\n",
    "df = pd.DataFrame(data)\n",
    "\n",
    "# Фильтрация проигрышных домашних матчей\n",
    "home_losses = df[df['home_team_outcome'] == 'Loss']\n",
    "\n",
    "# Подсчет количества проигрышей по дням недели\n",
    "losses_by_day = home_losses['day_of_week'].value_counts()\n",
    "\n",
    "# Подсчет проигрышей в субботу и воскресенье\n",
    "weekend_losses = losses_by_day.get('Saturday', 0) + losses_by_day.get('Sunday', 0)\n",
    "\n",
    "# Подсчет общего количества проигрышей\n",
    "total_losses = losses_by_day.sum()\n",
    "\n",
    "# Определение доли проигрышей на выходных, используя значение по умолчанию\n",
    "weekend_ratio = (weekend_losses / total_losses * 100)  \n",
    "\n",
    "print(f\"Процент проигрышных домашних матчей на выходных (cуббота и dоскресенье): {weekend_ratio:.2f}%\")"
   ]
  },
  {
   "cell_type": "markdown",
   "metadata": {
    "jp-MarkdownHeadingCollapsed": true,
    "pycharm": {
     "name": "#%% md\n"
    }
   },
   "source": [
    "# 20. Правда ли что наибольшее количество ранов происходит в холодную погоду? (Холодной погодой считается погода ниже 0 градусов)"
   ]
  },
  {
   "cell_type": "code",
   "execution_count": 60,
   "metadata": {
    "pycharm": {
     "name": "#%%\n"
    }
   },
   "outputs": [
    {
     "name": "stdout",
     "output_type": "stream",
     "text": [
      "Общее количество ранов в холодную погоду (ниже 0 градусов): 0\n",
      "Общее количество ранов в теплую погоду (0 градусов и выше): 22003\n",
      "Ложь. Наибольшее количество ранов происходит в теплую погоду.\n"
     ]
    }
   ],
   "source": [
    "# Создание DataFrame\n",
    "df = pd.DataFrame(data)\n",
    "\n",
    "# Фильтрация игр с температурой ниже 0 градусов\n",
    "cold_weather_games = df[df['temperature'] < 0]\n",
    "\n",
    "# Подсчет общего количества ранов в холодную погоду\n",
    "cold_weather_runs = cold_weather_games['total_runs'].sum()\n",
    "\n",
    "# Фильтрация игр с температурой 0 градусов и выше\n",
    "warm_weather_games = df[df['temperature'] >= 0]\n",
    "\n",
    "# Подсчет общего количества ранов в теплую погоду\n",
    "warm_weather_runs = warm_weather_games['total_runs'].sum()\n",
    "\n",
    "# Вывод результатов\n",
    "print(f\"Общее количество ранов в холодную погоду (ниже 0 градусов): {cold_weather_runs}\")\n",
    "print(f\"Общее количество ранов в теплую погоду (0 градусов и выше): {warm_weather_runs}\")\n",
    "\n",
    "if cold_weather_runs > warm_weather_runs:\n",
    "    print(\"Правда. Наибольшее количество ранов происходит в холодную погоду.\")\n",
    "else:\n",
    "    print(\"Ложь. Наибольшее количество ранов происходит в теплую погоду.\")"
   ]
  },
  {
   "cell_type": "code",
   "execution_count": null,
   "metadata": {},
   "outputs": [],
   "source": []
  }
 ],
 "metadata": {
  "kernelspec": {
   "display_name": "Python 3 (ipykernel)",
   "language": "python",
   "name": "python3"
  },
  "language_info": {
   "codemirror_mode": {
    "name": "ipython",
    "version": 3
   },
   "file_extension": ".py",
   "mimetype": "text/x-python",
   "name": "python",
   "nbconvert_exporter": "python",
   "pygments_lexer": "ipython3",
   "version": "3.12.4"
  }
 },
 "nbformat": 4,
 "nbformat_minor": 4
}
